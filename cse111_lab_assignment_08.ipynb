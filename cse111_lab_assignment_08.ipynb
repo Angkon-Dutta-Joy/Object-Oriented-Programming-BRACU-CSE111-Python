{
  "nbformat": 4,
  "nbformat_minor": 0,
  "metadata": {
    "colab": {
      "provenance": [],
      "collapsed_sections": []
    },
    "kernelspec": {
      "name": "python3",
      "display_name": "Python 3"
    },
    "language_info": {
      "name": "python"
    }
  },
  "cells": [
    {
      "cell_type": "code",
      "execution_count": null,
      "metadata": {
        "id": "NyQQuXKb91-l",
        "colab": {
          "base_uri": "https://localhost:8080/"
        },
        "outputId": "7489f4ca-b17c-4dca-8eba-5b92d2840362"
      },
      "outputs": [
        {
          "output_type": "stream",
          "name": "stdout",
          "text": [
            "RealPart: 1.0\n",
            "ImaginaryPart: 1.0\n",
            "---------\n",
            "RealPart: 5.0\n",
            "ImaginaryPart: 7.0\n"
          ]
        }
      ],
      "source": [
        "\n",
        "\n",
        "#task1\n",
        "class RealNumber:\n",
        "   def __init__(self, r=0):\n",
        "      self.__realValue = r\n",
        "   def getRealValue(self):\n",
        "      return self.__realValue\n",
        "   def setRealValue(self, r):\n",
        "      self.__realValue = r\n",
        "   def __str__(self):\n",
        "      return 'RealPart: '+str(self.getRealValue())\n",
        "class ComplexNumber(RealNumber):\n",
        "   def __init__(self, r=1.0, i=1.0):\n",
        "      #super().setRealValue(float(r))\n",
        "      super().__init__(float(r))\n",
        "      self.__imaginary= float(i)\n",
        "   #def getImaginaryValue(self):\n",
        "      #return self.__imaginary\n",
        "   def __str__(self):\n",
        "      return super().__str__() + \"\\nImaginaryPart: \"+ str(self.__imaginary)#str(self.getImaginaryValue())\n",
        "      return f'{super().__str__()}\\nImaginaryPart:{self.__imaginary}'\n",
        "cn1 = ComplexNumber()\n",
        "print(cn1)\n",
        "print('---------')\n",
        "cn2 = ComplexNumber(5,7)\n",
        "print(cn2)"
      ]
    },
    {
      "cell_type": "code",
      "source": [
        "#2\n",
        "class RealNumber:\n",
        "  def __init__(self, number=0):\n",
        "    self.number = number\n",
        "  def __add__(self, anotherRealNumber):\n",
        "    return self.number + anotherRealNumber.number\n",
        "  def __sub__(self, anotherRealNumber):\n",
        "    return self.number - anotherRealNumber.number\n",
        "  def __str__(self):\n",
        "    return str(self.number)\n",
        "\n",
        "class ComplexNumber(RealNumber):\n",
        "  def __init__(self,number,i):\n",
        "    super().__init__(number)\n",
        "    self.imaginary=i\n",
        "\n",
        "    \n",
        "  def __add__(self,other):\n",
        "     real=super().__add__(self.number,other.number)\n",
        "     img=super().__add__(self.imaginary,other.imaginary)\n",
        "     return ComplexNumber(real,img)\n",
        "  def __sub__(self,other):\n",
        "    real=self.number-other.number\n",
        "    img=self.imaginary-other.imaginary\n",
        "    return f'{real} - {img}i'\n",
        "  def __str__(self):\n",
        "    return f'{self.number} + {self.imaginary}i'\n",
        "\n",
        "r1 = RealNumber(3)\n",
        "r2 = RealNumber(5)\n",
        "print(r1+r2)\n",
        "cn1 = ComplexNumber(2, 1)\n",
        "print(cn1)\n",
        "cn2 = ComplexNumber(r1, 5)\n",
        "print(cn2)\n",
        "cn3 = cn1 + cn2\n",
        "print(cn3)\n",
        "cn4 = cn1 - cn2\n",
        "print(cn4)"
      ],
      "metadata": {
        "colab": {
          "base_uri": "https://localhost:8080/",
          "height": 408
        },
        "id": "FYIR222rL9dx",
        "outputId": "60b60a2e-3356-4bd9-da0e-7ef90c00681d"
      },
      "execution_count": null,
      "outputs": [
        {
          "output_type": "stream",
          "name": "stdout",
          "text": [
            "8\n",
            "2 + 1i\n",
            "3 + 5i\n"
          ]
        },
        {
          "output_type": "error",
          "ename": "TypeError",
          "evalue": "ignored",
          "traceback": [
            "\u001b[0;31m---------------------------------------------------------------------------\u001b[0m",
            "\u001b[0;31mTypeError\u001b[0m                                 Traceback (most recent call last)",
            "\u001b[0;32m<ipython-input-15-d7080e7c0e5b>\u001b[0m in \u001b[0;36m<module>\u001b[0;34m\u001b[0m\n\u001b[1;32m     32\u001b[0m \u001b[0mprint\u001b[0m\u001b[0;34m(\u001b[0m\u001b[0mcn2\u001b[0m\u001b[0;34m)\u001b[0m\u001b[0;34m\u001b[0m\u001b[0;34m\u001b[0m\u001b[0m\n\u001b[1;32m     33\u001b[0m \u001b[0;34m\u001b[0m\u001b[0m\n\u001b[0;32m---> 34\u001b[0;31m \u001b[0mcn4\u001b[0m \u001b[0;34m=\u001b[0m \u001b[0mcn1\u001b[0m \u001b[0;34m-\u001b[0m \u001b[0mcn2\u001b[0m\u001b[0;34m\u001b[0m\u001b[0;34m\u001b[0m\u001b[0m\n\u001b[0m\u001b[1;32m     35\u001b[0m \u001b[0mprint\u001b[0m\u001b[0;34m(\u001b[0m\u001b[0mcn4\u001b[0m\u001b[0;34m)\u001b[0m\u001b[0;34m\u001b[0m\u001b[0;34m\u001b[0m\u001b[0m\n",
            "\u001b[0;32m<ipython-input-15-d7080e7c0e5b>\u001b[0m in \u001b[0;36m__sub__\u001b[0;34m(self, other)\u001b[0m\n\u001b[1;32m     18\u001b[0m \u001b[0;34m\u001b[0m\u001b[0m\n\u001b[1;32m     19\u001b[0m   \u001b[0;32mdef\u001b[0m \u001b[0m__sub__\u001b[0m\u001b[0;34m(\u001b[0m\u001b[0mself\u001b[0m\u001b[0;34m,\u001b[0m\u001b[0mother\u001b[0m\u001b[0;34m)\u001b[0m\u001b[0;34m:\u001b[0m\u001b[0;34m\u001b[0m\u001b[0;34m\u001b[0m\u001b[0m\n\u001b[0;32m---> 20\u001b[0;31m     \u001b[0mreal\u001b[0m\u001b[0;34m=\u001b[0m\u001b[0mself\u001b[0m\u001b[0;34m.\u001b[0m\u001b[0mnumber\u001b[0m\u001b[0;34m-\u001b[0m\u001b[0mother\u001b[0m\u001b[0;34m.\u001b[0m\u001b[0mnumber\u001b[0m\u001b[0;34m\u001b[0m\u001b[0;34m\u001b[0m\u001b[0m\n\u001b[0m\u001b[1;32m     21\u001b[0m     \u001b[0mimg\u001b[0m\u001b[0;34m=\u001b[0m\u001b[0mself\u001b[0m\u001b[0;34m.\u001b[0m\u001b[0mimaginary\u001b[0m\u001b[0;34m-\u001b[0m\u001b[0mother\u001b[0m\u001b[0;34m.\u001b[0m\u001b[0mimaginary\u001b[0m\u001b[0;34m\u001b[0m\u001b[0;34m\u001b[0m\u001b[0m\n\u001b[1;32m     22\u001b[0m     \u001b[0;32mreturn\u001b[0m \u001b[0;34mf'{real} - {img}i'\u001b[0m\u001b[0;34m\u001b[0m\u001b[0;34m\u001b[0m\u001b[0m\n",
            "\u001b[0;31mTypeError\u001b[0m: unsupported operand type(s) for -: 'int' and 'RealNumber'"
          ]
        }
      ]
    },
    {
      "cell_type": "code",
      "source": [
        "#2\n",
        "class RealNumber:\n",
        "    def __init__(self, number=0):\n",
        "        self.number = number\n",
        "    def __add__(self, anotherRealNumber):\n",
        "        return self.number + anotherRealNumber.number\n",
        "    def __sub__(self, anotherRealNumber):\n",
        "        return self.number - anotherRealNumber.number\n",
        "    def __str__(self):\n",
        "        return str(self.number)\n",
        "class Complex(Realnumber):\n",
        "\n",
        "r1 = RealNumber(3)\n",
        "r2 = RealNumber(5)\n",
        "print(r1+r2)\n",
        "cn1 = ComplexNumber(2, 1)\n",
        "print(cn1)\n",
        "cn2 = ComplexNumber(r1, 5)\n",
        "print(cn2)\n",
        "cn3 = cn1 + cn2\n",
        "print(cn3)\n",
        "cn4 = cn1 - cn2\n",
        "print(cn4)\n",
        "\n"
      ],
      "metadata": {
        "id": "-Sx9nLvPvkwy"
      },
      "execution_count": null,
      "outputs": []
    },
    {
      "cell_type": "code",
      "source": [
        "#3\n",
        "class Account:\n",
        "  def __init__(self, balance):\n",
        "    self._balance = balance\n",
        "  def getBalance(self):\n",
        "    return self._balance\n",
        "\n",
        "class CheckingAccount(Account):\n",
        "  numberOfAccount=0\n",
        "  def __init__(self,money=0.0):\n",
        "    super().__init__(money)\n",
        "    CheckingAccount.numberOfAccount+=1\n",
        "  def __str__(self):\n",
        "    return f'Account Balance: {str(super().getBalance())}'\n",
        "\n",
        "\n",
        "print('Number of Checking Accounts: ', CheckingAccount.numberOfAccount)\n",
        "print(CheckingAccount())\n",
        "print(CheckingAccount(100.00))\n",
        "print(CheckingAccount(200.00))\n",
        "print('Number of Checking Accounts: ', CheckingAccount.numberOfAccount)"
      ],
      "metadata": {
        "id": "-SDlRoK9Obgw",
        "colab": {
          "base_uri": "https://localhost:8080/"
        },
        "outputId": "8cbb2c20-af4c-4b44-e6b7-7085244ccddb"
      },
      "execution_count": null,
      "outputs": [
        {
          "output_type": "stream",
          "name": "stdout",
          "text": [
            "Number of Checking Accounts:  0\n",
            "Account Balance: 0.0\n",
            "Account Balance: 100.0\n",
            "Account Balance: 200.0\n",
            "Number of Checking Accounts:  3\n"
          ]
        }
      ]
    },
    {
      "cell_type": "code",
      "source": [
        "#4\n",
        "class Fruit:\n",
        "    def __init__(self, formalin=False, name=''):\n",
        "        self.__formalin = formalin\n",
        "        self.name = name\n",
        "    \n",
        "    def getName(self):\n",
        "        return self.name\n",
        "    \n",
        "    def hasFormalin(self):\n",
        "        return self.__formalin\n",
        "    \n",
        "class testFruit:\n",
        "    def test(self, f):\n",
        "        print('----Printing Detail----')\n",
        "        if f.hasFormalin():\n",
        "            print('Do not eat the',f.getName(),'.')\n",
        "            print(f)\n",
        "        else:\n",
        "            print('Eat the',f.getName(),'.')\n",
        "            print(f)\n",
        "class Mango (Fruit):\n",
        "  def __init__(self, formalin=True,name=\"Mango\"):\n",
        "    super().__init__(formalin,name)\n",
        "  def __str__(self):\n",
        "          if self.hasFormalin()==True:\n",
        "             return self.getName()+\"s\"+\" are bad for you\"\n",
        "          else:\n",
        "             return self.getName()+\"s\"+\" are good for you\"\n",
        "class Jackfruit(Fruit):\n",
        "   def __init__(self,formalin=False, name=\"Jackfruit\"):\n",
        "     super().__init__(formalin,name=name)\n",
        "     \n",
        "   def __str__(self):\n",
        "          if self.hasFormalin()==True:\n",
        "             return self.getName()+\"s\"+\" are bad for you\"\n",
        "          else:\n",
        "             return self.getName()+\"s\"+\" are good for you\"\n",
        "\n",
        "\n",
        "\n",
        "\n",
        "\n",
        "m = Mango()\n",
        "j = Jackfruit()\n",
        "t1 = testFruit()\n",
        "t1.test(m)\n",
        "t1.test(j)\n"
      ],
      "metadata": {
        "colab": {
          "base_uri": "https://localhost:8080/"
        },
        "id": "W3wVo0TvwatR",
        "outputId": "6e76d7f3-6a55-49ae-e46f-849244e770dc"
      },
      "execution_count": null,
      "outputs": [
        {
          "output_type": "stream",
          "name": "stdout",
          "text": [
            "----Printing Detail----\n",
            "Do not eat the Mango .\n",
            "Mangos are bad for you\n",
            "----Printing Detail----\n",
            "Eat the Jackfruit .\n",
            "Jackfruits are good for you\n"
          ]
        }
      ]
    },
    {
      "cell_type": "code",
      "source": [
        "#task5\n",
        "class Exam:\n",
        "   def __init__(self,marks):\n",
        "      self.marks = marks\n",
        "      self.time = 60\n",
        "   def examSyllabus(self):\n",
        "      return \"Maths , English\"\n",
        "   def examParts(self):\n",
        "      return \"Part 1 - Maths\\nPart 2 - English\\n\"\n",
        "\n",
        "class ScienceExam(Exam):\n",
        "  def __init__(self,marks,time,*parts):\n",
        "    self.time=time\n",
        "    self.parts=parts\n",
        "    super().__init__(marks)\n",
        "  def examParts(self):\n",
        "    str1=super().examParts()\n",
        "    for i in self.parts:\n",
        "      if self.parts.index(i)==len(self.parts)-1:\n",
        "         str1+=f\"Part {self.parts.index(i) + 3} - {i}\"\n",
        "      else:\n",
        "         str1+=f\"Part {self.parts.index(i) + 3} - {i}\\n\"\n",
        "    return str1\n",
        "  def examSyllabus(self):\n",
        "     str2=super().examSyllabus()\n",
        "     for i in self.parts:\n",
        "       str2+=\",\"+ i\n",
        "     return str2\n",
        "  def __str__(self):\n",
        "     return f\"Marks: {self.marks} Time: {self.time} minutes Number of Parts: {len(self.parts)+2}\"\n",
        "\n",
        "  \n",
        "\n",
        "engineering = ScienceExam(100,90,\"Physics\",\"HigherMaths\")\n",
        "print(engineering)\n",
        "print('----------------------------------')\n",
        "print(engineering.examSyllabus())\n",
        "print(engineering.examParts())\n",
        "print('==================================')\n",
        "architecture =ScienceExam(100,120,\"Physics\",\"HigherMaths\",\"Drawing\")\n",
        "\n",
        "print(architecture)\n",
        "print('----------------------------------')\n",
        "print(architecture.examSyllabus())\n",
        "print(architecture.examParts())\n"
      ],
      "metadata": {
        "id": "MTZxjk-Xe7iv",
        "colab": {
          "base_uri": "https://localhost:8080/"
        },
        "outputId": "84b2cfc0-fd94-4e42-98ea-b554941dea40"
      },
      "execution_count": null,
      "outputs": [
        {
          "output_type": "stream",
          "name": "stdout",
          "text": [
            "Marks: 100 Time: 60 minutes Number of Parts: 4\n",
            "----------------------------------\n",
            "Maths , English,Physics,HigherMaths\n",
            "Part 1 - Maths\n",
            "Part 2 - English\n",
            "Part 3 - Physics\n",
            "Part 4 - HigherMaths\n",
            "==================================\n",
            "Marks: 100 Time: 60 minutes Number of Parts: 5\n",
            "----------------------------------\n",
            "Maths , English,Physics,HigherMaths,Drawing\n",
            "Part 1 - Maths\n",
            "Part 2 - English\n",
            "Part 3 - Physics\n",
            "Part 4 - HigherMaths\n",
            "Part 5 - Drawing\n"
          ]
        }
      ]
    },
    {
      "cell_type": "code",
      "source": [
        "#task6\n",
        "class Shape3D:\n",
        "\n",
        "  pi = 3.14159\n",
        "  def __init__(self, name = 'Default', radius = 0):\n",
        "    self._area = 0\n",
        "    self._name = name\n",
        "    self._height = 'No need'\n",
        "    self._radius = radius   \n",
        "\n",
        "  def calc_surface_area(self):\n",
        "    return 2 * Shape3D.pi * self._radius\n",
        "\n",
        "  def __str__(self):\n",
        "      return \"Radius: \"+str(self._radius)\n",
        "class Sphere(Shape3D):\n",
        "  def __init__(self,name,radius):\n",
        "    super().__init__(name,radius)\n",
        "    print(f\"Shape name: {self._name}, Area Formula: 4 * pi * r * r\")\n",
        "  def calc_surface_area(self):\n",
        "    self._area=super().calc_surface_area()*2*self._radius\n",
        "    return self._area\n",
        "  def __str__(self):\n",
        "    return f\"{super().__str__()}, Height: {self._height}\\nArea: {self._area}\"\n",
        "class Cylinder (Shape3D):\n",
        "  def __init__(self,name,radius,height):\n",
        "    super().__init__(name,radius)\n",
        "    self._height=height\n",
        "    print(f\"Shape name: {self._name}, Area Formula:2 * pi * r * (r + h)\")\n",
        "  def calc_surface_area(self):\n",
        "    self._area=super().calc_surface_area()* (self._radius+self._height)\n",
        "    return self._area\n",
        "  def __str__(self):\n",
        "    return f\"{super().__str__()}, Height: {self._height}\\nArea: {self._area}\"\n",
        "\n",
        "\n",
        "\n",
        "\n",
        "sph = Sphere('Sphere', 5)\n",
        "print('----------------------------------')\n",
        "sph.calc_surface_area()\n",
        "print(sph)\n",
        "print('==================================')\n",
        "cyl = Cylinder('Cylinder', 5, 10)\n",
        "print('----------------------------------')\n",
        "cyl.calc_surface_area()\n",
        "print(cyl)\n",
        "\n",
        "\n"
      ],
      "metadata": {
        "colab": {
          "base_uri": "https://localhost:8080/"
        },
        "id": "xx2up3WriHUg",
        "outputId": "e1c6ff49-8c4c-46e1-9b8f-3cc3feddea03"
      },
      "execution_count": null,
      "outputs": [
        {
          "output_type": "stream",
          "name": "stdout",
          "text": [
            "Shape name: Sphere, Area Formula: 4 * pi * r * r\n",
            "----------------------------------\n",
            "Radius: 5, Height: No need\n",
            "Area: 314.159\n",
            "==================================\n",
            "Shape name: Cylinder, Area Formula:2 * pi * r * (r + h)\n",
            "----------------------------------\n",
            "Radius: 5, Height: 10\n",
            "Area: 471.2385\n"
          ]
        }
      ]
    },
    {
      "cell_type": "code",
      "source": [
        "#7\n",
        "class PokemonBasic:\n",
        "\n",
        "  def __init__(self, name = 'Default', hp = 0, weakness = 'None', type = 'Unknown'):\n",
        "    self.name = name\n",
        "    self.hit_point = hp\n",
        "    self.weakness = weakness\n",
        "    self.type = type\n",
        "\n",
        "  def get_type(self):\n",
        "    return 'Main type: ' + self.type\n",
        "\n",
        "  def get_move(self):\n",
        "    return 'Basic move: ' + 'Quick Attack'\n",
        "\n",
        "  def __str__(self):\n",
        "    return \"Name: \" + self.name + \", HP: \" + str(self.hit_point) + \", Weakness: \" + self.weakness\n",
        "class PokemonExtra(PokemonBasic):\n",
        "  def __init__(self ,*info):\n",
        "    super().__init__(info[0],info[1],info[2],info[3])\n",
        "    if len(info)==4:\n",
        "      self.sectype=None\n",
        "      self.other=None\n",
        "    else:\n",
        "      self.sectype=info[4]\n",
        "      self.other=info[5]\n",
        "  def get_type(self):\n",
        "    if self.sectype!=None:\n",
        "      print (f\"{super().get_type()}\")\n",
        "      return f'Secondary type:{self.sectype}'\n",
        "      \n",
        "    else:\n",
        "      return super().get_type()\n",
        "  def get_move(self):\n",
        "    if self.other!=None:\n",
        "      print (super().get_move())\n",
        "      return f'Other move:{self.other[0]},{self.other[1]}'\n",
        "    else:\n",
        "      return super().get_move()\n",
        "\n",
        "print('\\n------------Basic Info:--------------')\n",
        "pk = PokemonBasic()\n",
        "print(pk)\n",
        "print(pk.get_type())\n",
        "print(pk.get_move())\n",
        "\n",
        "print('\\n------------Pokemon 1 Info:-------------')\n",
        "charmander = PokemonExtra('Charmander', 39, 'Water', 'Fire')\n",
        "print(charmander)\n",
        "print(charmander.get_type())\n",
        "print(charmander.get_move())\n",
        "\n",
        "print('\\n------------Pokemon 2 Info:-------------')\n",
        "charizard = PokemonExtra('Charizard', 78, 'Water', 'Fire', 'Flying', ('Fire Spin', 'Fire Blaze'))\n",
        "print(charizard)\n",
        "print(charizard.get_type())\n",
        "print(charizard.get_move())"
      ],
      "metadata": {
        "colab": {
          "base_uri": "https://localhost:8080/"
        },
        "id": "H_dt79419dUl",
        "outputId": "1e3810c3-649f-4d67-eebc-e35e489e825a"
      },
      "execution_count": null,
      "outputs": [
        {
          "output_type": "stream",
          "name": "stdout",
          "text": [
            "\n",
            "------------Basic Info:--------------\n",
            "Name: Default, HP: 0, Weakness: None\n",
            "Main type: Unknown\n",
            "Basic move: Quick Attack\n",
            "\n",
            "------------Pokemon 1 Info:-------------\n",
            "Name: Charmander, HP: 39, Weakness: Water\n",
            "Main type: Fire\n",
            "Basic move: Quick Attack\n",
            "\n",
            "------------Pokemon 2 Info:-------------\n",
            "Name: Charizard, HP: 78, Weakness: Water\n",
            "Main type: Fire\n",
            "Secondary type:Flying\n",
            "Basic move: Quick Attack\n",
            "Other move:Fire Spin,Fire Blaze\n"
          ]
        }
      ]
    },
    {
      "cell_type": "code",
      "source": [
        "#8\n",
        "class Team:\n",
        "\n",
        "    def __init__(self, name):\n",
        "        self.name = \"default\"\n",
        "        self.total_player = 5\n",
        "    def info(self):\n",
        "        print(\"We love sports\")\n",
        "class FootBallTeam(Team):\n",
        "    def __init__(self,name):\n",
        "      super().__init__(name)\n",
        "      self.name=name\n",
        "      self.total_player=11\n",
        "    def info(self):\n",
        "      \n",
        "      print( f\"Our name is {self.name}\\nWe play Football\")\n",
        "      super().info()\n",
        "class CricketTeam(Team):\n",
        "    def __init__(self,name):\n",
        "      super().__init__(name)\n",
        "      self.name=name\n",
        "      self.total_player=11\n",
        "    def info(self):\n",
        "      \n",
        "      print (f\"Our name is {self.name}\\nWe play Cricket\")\n",
        "      super().info()\n",
        "\n",
        "\n",
        "\n",
        "class Team_test:\n",
        "    def check(self, tm):\n",
        "        print(\"=========================\")\n",
        "        print(\"Total Player: \", tm.total_player)\n",
        "        tm.info()\n",
        "\n",
        "f = FootBallTeam(\"Brazil\")\n",
        "c = CricketTeam(\"Bangladesh\")\n",
        "test = Team_test()\n",
        "test.check(f)\n",
        "test.check(c)\n",
        "\n"
      ],
      "metadata": {
        "colab": {
          "base_uri": "https://localhost:8080/"
        },
        "id": "qco46pbrI68K",
        "outputId": "baed371b-a103-4c30-f5f3-fc194958e5fa"
      },
      "execution_count": null,
      "outputs": [
        {
          "output_type": "stream",
          "name": "stdout",
          "text": [
            "=========================\n",
            "Total Player:  11\n",
            "Our name is Brazil\n",
            "We play Football\n",
            "We love sports\n",
            "=========================\n",
            "Total Player:  11\n",
            "Our name is Bangladesh\n",
            "We play Cricket\n",
            "We love sports\n"
          ]
        }
      ]
    }
  ]
}